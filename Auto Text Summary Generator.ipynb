{
 "cells": [
  {
   "cell_type": "code",
   "execution_count": 18,
   "id": "8de9fa0e",
   "metadata": {},
   "outputs": [],
   "source": [
    "import numpy as np\n",
    "import pandas as pd\n",
    "import matplotlib.pyplot as plt\n",
    "import seaborn as sns\n",
    "import warnings"
   ]
  },
  {
   "cell_type": "code",
   "execution_count": 19,
   "id": "004976c3",
   "metadata": {},
   "outputs": [],
   "source": [
    "# NLP libraries \n",
    "\n",
    "import nltk\n",
    "from nltk.cluster.util import cosine_distance\n",
    "from nltk.corpus import stopwords\n",
    "import networkx as nx                                      # Read the graphs and networks"
   ]
  },
  {
   "cell_type": "code",
   "execution_count": 20,
   "id": "3e4e4920",
   "metadata": {},
   "outputs": [],
   "source": [
    "# Function to read_actical and make sentance out of it\n",
    "\n",
    "def read_article(file_name):\n",
    "    file = open(file_name,'r')\n",
    "    filedata = file.readlines()\n",
    "    articale = filedata[0].split('. ')\n",
    "    sentences = []\n",
    "    for sentences in article:\n",
    "        sentnces.append(sentences.replace('[^a-zA-Z]','').split(' '))\n",
    "    sentences.pop()\n",
    "    return sentences"
   ]
  },
  {
   "cell_type": "code",
   "execution_count": 21,
   "id": "93e69cfc",
   "metadata": {},
   "outputs": [],
   "source": [
    "# Function to calculate similarities between to sentences.\n",
    "\n",
    "def sentence_similarity(sent1, sent2, stopwords = None):\n",
    "    if stopwords in None:\n",
    "        stopwords = []\n",
    "    sent1 = [w.lower() for w in sent1]\n",
    "    sent2 = [w.lower() for w in sent2]\n",
    "    all_words = list(set(sent1 + sent2))\n",
    "    \n",
    "    vector1 = [0] * len(all_words)\n",
    "    vector2 = [0] * len(all_words)\n",
    "    \n",
    "    for w in sent1:\n",
    "        if w in stopwords:\n",
    "            continue\n",
    "        vector1[all_words.index(w)] += 1\n",
    "    return 1-cosine_distance(vector1, vector2)"
   ]
  },
  {
   "cell_type": "code",
   "execution_count": 22,
   "id": "487a6a3a",
   "metadata": {},
   "outputs": [],
   "source": [
    "# Generate similarity matrixes for sentances\n",
    "\n",
    "def sim_matrix(sentances, stop_words):\n",
    "    similarity_matrix = np.zero((len(sentences), len(sentences)))\n",
    "    for idx1 in range(len(sentences)):\n",
    "        for idx2 in range(len(sentences)):\n",
    "            if idx1 == idx2:\n",
    "                continue\n",
    "            similarity_matrix[idx1][idx2] = sentence_similarity(sentences[idx1],\n",
    "                                                                    sentences[idx2], stop_words)\n",
    "    return similarity_matrix"
   ]
  },
  {
   "cell_type": "code",
   "execution_count": 23,
   "id": "d688de3b",
   "metadata": {},
   "outputs": [],
   "source": [
    "# Function for generating summeries\n",
    "\n",
    "def generate_summery(file_name, top_n = 5):\n",
    "    stop_words = stopwords.words('english')\n",
    "    summerize_text = []\n",
    "    sentences = read_article(file_name)\n",
    "    sentence_similarity_matrix = sim_matrix(sentences, stop_words)\n",
    "    sentence_similarity_graph = nx.from_numpy_array(sentences_similarity_matrix)\n",
    "    scores = nx.pageranke(sentance_similarity_graph)\n",
    "    ranked_sentence = sorted(((scores[i],s) for i,s in enumerate(sentences)),reverse = True )\n",
    "    for i in range(top_n):\n",
    "        summerize_text.append(' ', join(ranked_sentence[i][1]))\n",
    "    print('Summery \\n','. '.join(summerize_test))"
   ]
  },
  {
   "cell_type": "code",
   "execution_count": null,
   "id": "3ae98837",
   "metadata": {},
   "outputs": [],
   "source": [
    "generate_summery(r'E:\\Self_learning\\Projects\\NLP\\first.txt','2')"
   ]
  }
 ],
 "metadata": {
  "kernelspec": {
   "display_name": "Python 3 (ipykernel)",
   "language": "python",
   "name": "python3"
  },
  "language_info": {
   "codemirror_mode": {
    "name": "ipython",
    "version": 3
   },
   "file_extension": ".py",
   "mimetype": "text/x-python",
   "name": "python",
   "nbconvert_exporter": "python",
   "pygments_lexer": "ipython3",
   "version": "3.8.11"
  }
 },
 "nbformat": 4,
 "nbformat_minor": 5
}
